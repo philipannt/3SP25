{
 "cells": [
  {
   "cell_type": "markdown",
   "id": "1fb85170",
   "metadata": {},
   "source": [
    "# Final Project - Data Science Tools and Ecosystem"
   ]
  },
  {
   "cell_type": "markdown",
   "id": "2124d2bc",
   "metadata": {},
   "source": [
    "## Introduction\n",
    "This notebook provides an overview of Data Science languages, libraries, and tools."
   ]
  },
  {
   "cell_type": "markdown",
   "id": "2fc97348",
   "metadata": {},
   "source": [
    "## Data Science Languages\n",
    "- Python\n",
    "- R\n",
    "- SQL\n",
    "- Julia"
   ]
  },
  {
   "cell_type": "markdown",
   "id": "ce3d159d",
   "metadata": {},
   "source": [
    "## Data Science Libraries\n",
    "- NumPy\n",
    "- Pandas\n",
    "- Matplotlib\n",
    "- Scikit-learn"
   ]
  },
  {
   "cell_type": "markdown",
   "id": "a30f6080",
   "metadata": {},
   "source": [
    "## Data Science Tools\n",
    "| Tool | Description |\n",
    "|------|------------|\n",
    "| Jupyter Notebook | Interactive coding |\n",
    "| RStudio | IDE for R |\n",
    "| Apache Spark | Big data processing |"
   ]
  },
  {
   "cell_type": "markdown",
   "id": "5aec8b61",
   "metadata": {},
   "source": [
    "## Arithmetic Expression Examples\n",
    "Here is an example of an arithmetic expression: `3 + 5 * 2`"
   ]
  },
  {
   "cell_type": "code",
   "execution_count": null,
   "id": "ce6468ab",
   "metadata": {},
   "outputs": [],
   "source": [
    "result = (3 + 5) * 2\n",
    "print(result)"
   ]
  },
  {
   "cell_type": "code",
   "execution_count": null,
   "id": "fe4e1d0c",
   "metadata": {},
   "outputs": [],
   "source": [
    "# Convert minutes to hours\n",
    "minutes = 120\n",
    "hours = minutes / 60\n",
    "print(hours)"
   ]
  },
  {
   "cell_type": "markdown",
   "id": "0e5cb7b8",
   "metadata": {},
   "source": [
    "## Objectives\n",
    "- Learn about data science languages\n",
    "- Understand different libraries\n",
    "- Explore data science tools"
   ]
  },
  {
   "cell_type": "markdown",
   "id": "d7812866",
   "metadata": {},
   "source": [
    "## Author\n",
    "Thien An"
   ]
  }
 ],
 "metadata": {
  "language_info": {
   "name": "python"
  }
 },
 "nbformat": 4,
 "nbformat_minor": 5
}
