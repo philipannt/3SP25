{
 "cells": [
  {
   "cell_type": "markdown",
   "id": "442d62a4",
   "metadata": {},
   "source": [
    "\n",
    "# Boston Housing Analysis\n",
    "\n",
    "## Task 1: Familiarize Yourself with the Dataset\n",
    "\n",
    "This dataset describes housing values in Boston. Below are the features:\n",
    "\n",
    "- **CRIM**: Per capita crime rate by town.\n",
    "- **ZN**: Proportion of residential land zoned for lots over 25,000 sq.ft.\n",
    "- **INDUS**: Proportion of non-retail business acres per town.\n",
    "- **CHAS**: Charles River dummy variable (1 if tract bounds river; 0 otherwise).\n",
    "- **NOX**: Nitric oxide concentration (parts per 10 million).\n",
    "- **RM**: Average number of rooms per dwelling.\n",
    "- **AGE**: Proportion of owner-occupied units built prior to 1940.\n",
    "- **DIS**: Weighted distances to five Boston employment centres.\n",
    "- **RAD**: Index of accessibility to radial highways.\n",
    "- **TAX**: Full-value property-tax rate per $10,000.\n",
    "- **PTRATIO**: Pupil-teacher ratio by town.\n",
    "- **LSTAT**: % lower status of the population.\n",
    "- **MEDV**: Median value of owner-occupied homes in $1000's.\n",
    "\n",
    "Below is the head of the dataset (replace with actual data):\n"
   ]
  },
  {
   "cell_type": "code",
   "execution_count": null,
   "id": "6030f760",
   "metadata": {},
   "outputs": [],
   "source": [
    "import pandas as pd\n",
    "# Load your dataset here\n",
    "# df = pd.read_csv('file_path')\n",
    "df.head()"
   ]
  },
  {
   "cell_type": "markdown",
   "id": "f761126f",
   "metadata": {},
   "source": [
    "\n",
    "## Task 2: Generate Descriptive Statistics and Visualizations\n",
    "\n",
    "The following tasks will be performed:\n",
    "1. Provide a boxplot for the median value of owner-occupied homes (`MEDV`).\n",
    "2. Provide a bar plot for the `CHAS` variable (Charles River dummy variable).\n",
    "3. Provide a boxplot for `MEDV` vs. `AGE` (categorized).\n",
    "4. Provide a scatter plot between `NOX` and `INDUS`.\n",
    "5. Create a histogram for the `PTRATIO` variable.\n"
   ]
  },
  {
   "cell_type": "code",
   "execution_count": null,
   "id": "db661b42",
   "metadata": {},
   "outputs": [],
   "source": [
    "# Add your visualization code here using matplotlib or seaborn"
   ]
  },
  {
   "cell_type": "markdown",
   "id": "dab54098",
   "metadata": {},
   "source": [
    "\n",
    "## Task 3: Use Appropriate Tests to Answer Questions\n",
    "\n",
    "1. **T-Test**: Is there a significant difference in median value of houses bounded by the Charles River or not?\n",
    "2. **ANOVA**: Is there a difference in median values of houses (`MEDV`) for different proportions of owner-occupied units built prior to 1940?\n",
    "3. **Pearson Correlation**: Can we conclude there is no relationship between `NOX` and `INDUS`?\n",
    "4. **Regression Analysis**: Impact of `DIS` (distance to employment centers) on `MEDV`.\n",
    "\n",
    "Each test will include:\n",
    "- Hypothesis formulation.\n",
    "- Use of α = 0.05.\n",
    "- Statistical test and conclusion.\n"
   ]
  },
  {
   "cell_type": "code",
   "execution_count": null,
   "id": "54fb0fb8",
   "metadata": {},
   "outputs": [],
   "source": [
    "# Add your statistical analysis code here using scipy or statsmodels"
   ]
  },
  {
   "cell_type": "markdown",
   "id": "3c1f418a",
   "metadata": {},
   "source": [
    "\n",
    "## Task 4: Share Your Jupyter Notebook\n",
    "\n",
    "Ensure all the required tasks are completed and submit the notebook for peer review.\n"
   ]
  }
 ],
 "metadata": {},
 "nbformat": 4,
 "nbformat_minor": 5
}
