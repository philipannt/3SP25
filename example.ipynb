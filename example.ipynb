{
 "cells": [
  {
   "cell_type": "code",
   "execution_count": 1,
   "metadata": {},
   "outputs": [
    {
     "name": "stdout",
     "output_type": "stream",
     "text": [
      "   name  selling_price  year  seller_type  owner  km_driven  ex_showroom_price\n",
      "0     0         175000  2019            1      1        350      267815.043790\n",
      "1     1          45000  2017            1      1       5650       68866.725546\n",
      "2     2         150000  2018            1      1      12000      148114.000000\n",
      "3     3          65000  2015            1      1      23000       89643.000000\n",
      "4     4          20000  2011            1      0      21000       30607.433576\n",
      "Done.\n"
     ]
    },
    {
     "name": "stderr",
     "output_type": "stream",
     "text": [
      "C:\\Users\\ThienAn\\AppData\\Local\\Temp\\ipykernel_8140\\3544796303.py:11: SettingWithCopyWarning: \n",
      "A value is trying to be set on a copy of a slice from a DataFrame.\n",
      "Try using .loc[row_indexer,col_indexer] = value instead\n",
      "\n",
      "See the caveats in the documentation: https://pandas.pydata.org/pandas-docs/stable/user_guide/indexing.html#returning-a-view-versus-a-copy\n",
      "  valid_df[\"weight\"] = valid_df[\"selling_price\"] / valid_df[\"ex_showroom_price\"]\n"
     ]
    }
   ],
   "source": [
    "import pandas as pd\n",
    "import numpy as np\n",
    "\n",
    "file_path = \"E:/Python/3SP25/BIKE DETAILS.csv\"\n",
    "df = pd.read_csv(file_path)\n",
    "\n",
    "df['seller_type'] = df['seller_type'].map({'Individual': 1, 'Dealer': 0})\n",
    "df['owner'] = df['owner'].apply(lambda x: 1 if x in ['1st owner'] else 0)\n",
    "\n",
    "valid_df = df.dropna(subset=[\"selling_price\", \"ex_showroom_price\"])\n",
    "valid_df[\"weight\"] = valid_df[\"selling_price\"] / valid_df[\"ex_showroom_price\"]\n",
    "avg = valid_df[\"weight\"].mean()\n",
    "\n",
    "df[\"ex_showroom_price\"] = df[\"ex_showroom_price\"]\n",
    "df.loc[df[\"ex_showroom_price\"].isna(), \"ex_showroom_price\"] = df[\"selling_price\"] / avg\n",
    "df[\"name\"], name_labels = pd.factorize(df[\"name\"])\n",
    "\n",
    "print(df.head())\n",
    "\n",
    "output_path = \"example.csv\"\n",
    "df.to_csv(output_path, index=False)\n",
    "print(\"Done.\")"
   ]
  },
  {
   "cell_type": "code",
   "execution_count": 3,
   "metadata": {},
   "outputs": [
    {
     "name": "stdout",
     "output_type": "stream",
     "text": [
      "MSE: 272012036.9113196\n",
      "R2 Score: 0.8968397018917161\n"
     ]
    },
    {
     "data": {
      "text/plain": [
       "['name_labels.pkl']"
      ]
     },
     "execution_count": 3,
     "metadata": {},
     "output_type": "execute_result"
    }
   ],
   "source": [
    "import joblib\n",
    "\n",
    "from sklearn.svm import SVR\n",
    "from sklearn.metrics import mean_squared_error, r2_score\n",
    "from sklearn.model_selection import train_test_split\n",
    "from sklearn.ensemble import RandomForestRegressor\n",
    "from sklearn.linear_model import LinearRegression\n",
    "from sklearn.preprocessing import StandardScaler\n",
    "from sklearn.pipeline import make_pipeline\n",
    "\n",
    "from xgboost import XGBRegressor\n",
    "\n",
    "df = pd.read_csv('E:/Python/3SP25/example.csv')\n",
    "\n",
    "X = df.drop(columns=['selling_price'])\n",
    "y = df['selling_price']\n",
    "\n",
    "X_train, X_test, y_train, y_test = train_test_split(X, y, test_size=0.2, random_state=42)\n",
    "\n",
    "model = LinearRegression()\n",
    "# model = RandomForestRegressor(n_estimators=100, random_state=42)\n",
    "# model = XGBRegressor(n_estimators=100, learning_rate=0.1, random_state=42)\n",
    "# model = make_pipeline(StandardScaler(), SVR(kernel='rbf', C=1.0, epsilon=0.1))\n",
    "\n",
    "model.fit(X_train, y_train)\n",
    "\n",
    "y_pred = model.predict(X_test)\n",
    "\n",
    "mse = mean_squared_error(y_test, y_pred)\n",
    "r2 = r2_score(y_test, y_pred)\n",
    "\n",
    "print(f'MSE: {mse}')\n",
    "print(f'R2 Score: {r2}')\n",
    "\n",
    "joblib.dump(model, 'bike_price_model.pkl')\n",
    "joblib.dump(name_labels, 'name_labels.pkl')"
   ]
  },
  {
   "cell_type": "code",
   "execution_count": 5,
   "metadata": {},
   "outputs": [
    {
     "name": "stdout",
     "output_type": "stream",
     "text": [
      "Giá xe dự đoán: 26,136,509 VNĐ\n"
     ]
    }
   ],
   "source": [
    "model = joblib.load('bike_price_model.pkl')\n",
    "name_labels = joblib.load('name_labels.pkl')\n",
    "\n",
    "def preprocess_input(user_input):\n",
    "    model_columns = ['name', 'year', 'seller_type', 'owner', 'km_driven', 'ex_showroom_price']\n",
    "\n",
    "    df_input = pd.DataFrame([user_input])\n",
    "\n",
    "    df_input['name'] = name_labels.get_indexer([df_input['name'][0]])\n",
    "\n",
    "    for col in ['year', 'seller_type', 'owner', 'km_driven', 'ex_showroom_price']:\n",
    "        df_input[col] = pd.to_numeric(df_input[col], errors='coerce')\n",
    "\n",
    "    df_input = df_input.fillna(0)\n",
    "\n",
    "    df_input = df_input[model_columns]\n",
    "\n",
    "    return df_input\n",
    "\n",
    "def predict_price(data_input):\n",
    "    processed_input = preprocess_input(data_input)\n",
    "    prediction = model.predict(processed_input)\n",
    "    return prediction[0]\n",
    "\n",
    "data_input = {\n",
    "    'year': '2016',\n",
    "    'km_driven': '21100',\n",
    "    'name': 'Honda X-Blade',\n",
    "    'ex_showroom_price': '40000000',\n",
    "    'seller_type': 'Individual',\n",
    "    'owner': '1st owner',\n",
    "}\n",
    "\n",
    "price = predict_price(data_input)\n",
    "print(f\"Giá xe dự đoán: {price:,.0f} VNĐ\")"
   ]
  }
 ],
 "metadata": {
  "kernelspec": {
   "display_name": "Python 3",
   "language": "python",
   "name": "python3"
  },
  "language_info": {
   "codemirror_mode": {
    "name": "ipython",
    "version": 3
   },
   "file_extension": ".py",
   "mimetype": "text/x-python",
   "name": "python",
   "nbconvert_exporter": "python",
   "pygments_lexer": "ipython3",
   "version": "3.12.9"
  }
 },
 "nbformat": 4,
 "nbformat_minor": 2
}
