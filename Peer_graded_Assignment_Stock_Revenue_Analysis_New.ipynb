{
 "cells": [
  {
   "cell_type": "markdown",
   "id": "ba16edc7",
   "metadata": {},
   "source": [
    "# Peer-graded Assignment: Analyzing Historical Stock/Revenue Data and Building a Dashboard"
   ]
  },
  {
   "cell_type": "code",
   "execution_count": null,
   "id": "e5a2c6c7",
   "metadata": {},
   "outputs": [],
   "source": [
    "\n",
    "import yfinance as yf\n",
    "\n",
    "# Fetch Tesla stock data\n",
    "tesla = yf.Ticker(\"TSLA\")\n",
    "tesla_data = tesla.history(period=\"max\")\n",
    "# Reset index and show data\n",
    "tesla_data.reset_index(inplace=True)\n",
    "print(tesla_data.head())\n"
   ]
  },
  {
   "cell_type": "code",
   "execution_count": null,
   "id": "1df59fa2",
   "metadata": {},
   "outputs": [],
   "source": [
    "\n",
    "import requests\n",
    "from bs4 import BeautifulSoup\n",
    "import pandas as pd\n",
    "\n",
    "# Scrape Tesla revenue data\n",
    "url = \"https://www.macrotrends.net/stocks/charts/TSLA/tesla/revenue\"\n",
    "html_data = requests.get(url).text\n",
    "soup = BeautifulSoup(html_data, \"html.parser\")\n",
    "tables = soup.find_all(\"table\")\n",
    "# Extract revenue data\n",
    "revenue_table = pd.read_html(str(tables))[1]\n",
    "revenue_table.columns = [\"Date\", \"Revenue\"]\n",
    "revenue_table[\"Revenue\"] = revenue_table[\"Revenue\"].str.replace(\",\", \"\").str.replace(\"$\", \"\").astype(\"float\")\n",
    "print(revenue_table.head())\n"
   ]
  },
  {
   "cell_type": "code",
   "execution_count": null,
   "id": "c86b9a63",
   "metadata": {},
   "outputs": [],
   "source": [
    "\n",
    "# Fetch GameStop stock data\n",
    "gamestop = yf.Ticker(\"GME\")\n",
    "gamestop_data = gamestop.history(period=\"max\")\n",
    "# Reset index and show data\n",
    "gamestop_data.reset_index(inplace=True)\n",
    "print(gamestop_data.head())\n"
   ]
  },
  {
   "cell_type": "code",
   "execution_count": null,
   "id": "3893ae86",
   "metadata": {},
   "outputs": [],
   "source": [
    "\n",
    "# Scrape GameStop revenue data\n",
    "url = \"https://www.macrotrends.net/stocks/charts/GME/gamestop/revenue\"\n",
    "html_data = requests.get(url).text\n",
    "soup = BeautifulSoup(html_data, \"html.parser\")\n",
    "tables = soup.find_all(\"table\")\n",
    "# Extract revenue data\n",
    "revenue_table_gme = pd.read_html(str(tables))[1]\n",
    "revenue_table_gme.columns = [\"Date\", \"Revenue\"]\n",
    "revenue_table_gme[\"Revenue\"] = revenue_table_gme[\"Revenue\"].str.replace(\",\", \"\").str.replace(\"$\", \"\").astype(\"float\")\n",
    "print(revenue_table_gme.head())\n"
   ]
  },
  {
   "cell_type": "code",
   "execution_count": null,
   "id": "ba27abab",
   "metadata": {},
   "outputs": [],
   "source": [
    "\n",
    "import matplotlib.pyplot as plt\n",
    "\n",
    "# Plot Tesla Stock vs Revenue\n",
    "fig, ax1 = plt.subplots()\n",
    "ax2 = ax1.twinx()\n",
    "ax1.plot(tesla_data['Date'], tesla_data['Close'], 'g-')\n",
    "ax2.plot(revenue_table['Date'], revenue_table['Revenue'], 'b-')\n",
    "ax1.set_xlabel('Date')\n",
    "ax1.set_ylabel('Stock Price', color='g')\n",
    "ax2.set_ylabel('Revenue', color='b')\n",
    "plt.title('Tesla Stock vs Revenue')\n",
    "plt.show()\n",
    "\n",
    "# Plot GameStop Stock vs Revenue\n",
    "fig, ax1 = plt.subplots()\n",
    "ax2 = ax1.twinx()\n",
    "ax1.plot(gamestop_data['Date'], gamestop_data['Close'], 'g-')\n",
    "ax2.plot(revenue_table_gme['Date'], revenue_table_gme['Revenue'], 'b-')\n",
    "ax1.set_xlabel('Date')\n",
    "ax1.set_ylabel('Stock Price', color='g')\n",
    "ax2.set_ylabel('Revenue', color='b')\n",
    "plt.title('GameStop Stock vs Revenue')\n",
    "plt.show()\n"
   ]
  }
 ],
 "metadata": {},
 "nbformat": 4,
 "nbformat_minor": 5
}
