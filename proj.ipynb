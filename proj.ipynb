{
 "cells": [
  {
   "cell_type": "code",
   "execution_count": null,
   "metadata": {},
   "outputs": [
    {
     "name": "stdout",
     "output_type": "stream",
     "text": [
      "Done.\n"
     ]
    }
   ],
   "source": [
    "import pandas as pd\n",
    "import numpy as np\n",
    "\n",
    "file_path = \"E:/Python/3SP25/CHOTOT_motorcycles.csv\"\n",
    "df = pd.read_csv(file_path)\n",
    "\n",
    "df['name'] = df['Brand'] + ' ' + df['Model']\n",
    "df[\"name\"], name_labels = pd.factorize(df[\"name\"])\n",
    "\n",
    "df['Price'] = df['Price'].apply(lambda x: int(x.replace('.', '').replace(' đ', '').replace('đ', '').strip()))\n",
    "df['Showroom_Price'] = pd.to_numeric(df['Min_Price'].str.lower().str.replace('triệu', '').str.strip(), errors='coerce') * 1000000\n",
    "\n",
    "df['Kilometer Driven'] = df['Kilometer Driven'].replace('Không có thông tin', np.nan)\n",
    "df['Kilometer Driven'] = pd.to_numeric(df['Kilometer Driven'], errors='coerce')\n",
    "df['Year of Manufacture'] = df['Year of Manufacture'].str.extract(r'(\\d{4})')\n",
    "df['Year of Manufacture'] = pd.to_numeric(df['Year of Manufacture'], errors='coerce')\n",
    "for col in df.select_dtypes(include=[np.number]).columns:\n",
    "    df[col] = df[col].fillna(df[col].mean())\n",
    "\n",
    "df = df.drop(['Min_Price', 'Brand', 'Model', 'Địa điểm', 'Thời gian đăng'], axis=1)\n",
    "\n",
    "# print(df.head())\n",
    "\n",
    "output_path = \"BIKE_DETAILS.csv\"\n",
    "df.to_csv(output_path, index=False)\n",
    "print(\"Done.\")"
   ]
  },
  {
   "cell_type": "code",
   "execution_count": 5,
   "metadata": {},
   "outputs": [
    {
     "name": "stdout",
     "output_type": "stream",
     "text": [
      "MSE: 688247356738865.4\n",
      "R2 Score: 0.43956372730660775\n"
     ]
    },
    {
     "data": {
      "text/plain": [
       "['name_labels.pkl']"
      ]
     },
     "execution_count": 5,
     "metadata": {},
     "output_type": "execute_result"
    }
   ],
   "source": [
    "from sklearn.svm import SVR\n",
    "from sklearn.metrics import mean_squared_error, r2_score\n",
    "from sklearn.model_selection import train_test_split\n",
    "from sklearn.ensemble import RandomForestRegressor\n",
    "from sklearn.linear_model import LinearRegression\n",
    "from sklearn.preprocessing import StandardScaler\n",
    "from sklearn.pipeline import make_pipeline\n",
    "\n",
    "from xgboost import XGBRegressor\n",
    "\n",
    "import joblib\n",
    "\n",
    "df = pd.read_csv('E:/Python/3SP25/BIKE_DETAILS.csv')\n",
    "\n",
    "X = df.drop(columns=['Price'])\n",
    "y = df['Price']\n",
    "\n",
    "X_train, X_test, y_train, y_test = train_test_split(X, y, test_size=0.2, random_state=42)\n",
    "\n",
    "model = RandomForestRegressor(n_estimators=100, random_state=42)\n",
    "\n",
    "model.fit(X_train, y_train)\n",
    "\n",
    "y_pred = model.predict(X_test)\n",
    "\n",
    "mse = mean_squared_error(y_test, y_pred)\n",
    "r2 = r2_score(y_test, y_pred)\n",
    "\n",
    "print(f'MSE: {mse}')\n",
    "print(f'R2 Score: {r2}')\n",
    "\n",
    "joblib.dump(model, 'bike_price_model.pkl')\n",
    "joblib.dump(name_labels, 'name_labels.pkl')"
   ]
  },
  {
   "cell_type": "code",
   "execution_count": null,
   "metadata": {},
   "outputs": [
    {
     "name": "stdout",
     "output_type": "stream",
     "text": [
      "Giá xe dự đoán: 31,007,985 VNĐ\n"
     ]
    }
   ],
   "source": [
    "model = joblib.load('bike_price_model.pkl')\n",
    "name_labels = joblib.load('name_labels.pkl')\n",
    "\n",
    "def preprocess_input(user_input):\n",
    "    df_input = pd.DataFrame([user_input])\n",
    "\n",
    "    df_input['name'] = name_labels.get_indexer([df_input['name'][0]])[0]\n",
    "\n",
    "    df_input['Year of Manufacture'] = pd.to_numeric(df_input['Year of Manufacture'], errors='coerce')\n",
    "    df_input['Kilometer Driven'] = pd.to_numeric(df_input['Kilometer Driven'], errors='coerce')\n",
    "\n",
    "    df_input = df_input.fillna(0)\n",
    "\n",
    "    return df_input\n",
    "\n",
    "def predict_price(data_input):\n",
    "    processed_input = preprocess_input(data_input)\n",
    "    prediction = model.predict(processed_input)\n",
    "    return prediction[0]\n",
    "\n",
    "data_input = {\n",
    "    'Year of Manufacture': '2016',\n",
    "    'Kilometer Driven': '21100',\n",
    "    'name': 'Honda Future',\n",
    "    'Showroom_Price': '40000000',\n",
    "}\n",
    "\n",
    "price = predict_price(data_input)\n",
    "print(f\"Giá xe dự đoán: {price:,.0f} VNĐ\")"
   ]
  }
 ],
 "metadata": {
  "kernelspec": {
   "display_name": "Python 3",
   "language": "python",
   "name": "python3"
  },
  "language_info": {
   "codemirror_mode": {
    "name": "ipython",
    "version": 3
   },
   "file_extension": ".py",
   "mimetype": "text/x-python",
   "name": "python",
   "nbconvert_exporter": "python",
   "pygments_lexer": "ipython3",
   "version": "3.12.9"
  }
 },
 "nbformat": 4,
 "nbformat_minor": 2
}
